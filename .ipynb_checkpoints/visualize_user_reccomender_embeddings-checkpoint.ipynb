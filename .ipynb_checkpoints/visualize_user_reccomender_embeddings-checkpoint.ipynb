{
 "cells": [
  {
   "cell_type": "code",
   "execution_count": null,
   "id": "e26b4cac",
   "metadata": {
    "scrolled": true
   },
   "outputs": [],
   "source": [
    "\n",
    "from diffusers import KandinskyV22Pipeline, KandinskyV22PriorPipeline\n",
    "import torch\n",
    "\n",
    "pipe_prior = KandinskyV22PriorPipeline.from_pretrained(\"kandinsky-community/kandinsky-2-2-prior\", \n",
    "                                                       torch_dtype=torch.float16)\n",
    "pipe_prior.to(\"cuda\")\n",
    "\n",
    "\n",
    "pipe = KandinskyV22Pipeline.from_pretrained(\"kandinsky-community/kandinsky-2-2-decoder\", \n",
    "                                            torch_dtype=torch.float16)\n",
    "pipe.to(\"cuda\")\n",
    "\n",
    "\n"
   ]
  },
  {
   "cell_type": "code",
   "execution_count": null,
   "id": "58850519",
   "metadata": {},
   "outputs": [],
   "source": [
    "\n",
    "\n",
    "- clustering\n",
    "- with and without other users\n",
    "- perpendicular/orthogonal to direction (will like but don't know yet)\n",
    "\n",
    "\n"
   ]
  },
  {
   "cell_type": "code",
   "execution_count": null,
   "id": "dbf4df1d",
   "metadata": {
    "scrolled": false
   },
   "outputs": [],
   "source": [
    "\n",
    "### Sample\n",
    "import numpy as np\n",
    "from IPython import display\n",
    "\n",
    "# seed = np.random.randint(0, 9999999999)\n",
    "print(seed)\n",
    "\n",
    "user_embs = torch.load('/home/ryn_mote/Misc/generative_recommender/pass_to/learned_user_features.pt')[36, None]\n",
    "# user_embs = torch.load('/home/ryn_mote/Misc/generative_recommender/pass_to/maxed_emb.pt')[0, None]\n",
    "\n",
    "with torch.no_grad():\n",
    "    for prompt, uemb in zip(['''a green dog\n",
    "''']*len(user_embs), user_embs):\n",
    "        torch.manual_seed(seed)\n",
    "        image_emb, negative_image_emb = pipe_prior(prompt).to_tuple()\n",
    "        uemb = uemb / (uemb.norm())\n",
    "        print(uemb)\n",
    "        image_emb = image_emb + 30 * uemb.to('cuda').unsqueeze(0)\n",
    "\n",
    "        image = pipe(\n",
    "            image_embeds=image_emb,\n",
    "            negative_image_embeds=negative_image_emb,\n",
    "            height=768,\n",
    "            width=768,\n",
    "            num_inference_steps=50,\n",
    "        ).images\n",
    "        [display.display(im) for im in image]\n",
    "\n"
   ]
  },
  {
   "cell_type": "code",
   "execution_count": null,
   "id": "a8400363",
   "metadata": {},
   "outputs": [],
   "source": []
  },
  {
   "cell_type": "code",
   "execution_count": null,
   "id": "2e10e4bd",
   "metadata": {},
   "outputs": [],
   "source": []
  },
  {
   "cell_type": "code",
   "execution_count": null,
   "id": "26164398",
   "metadata": {},
   "outputs": [],
   "source": []
  },
  {
   "cell_type": "code",
   "execution_count": null,
   "id": "7ab68a2c",
   "metadata": {
    "scrolled": false
   },
   "outputs": [],
   "source": []
  },
  {
   "cell_type": "code",
   "execution_count": null,
   "id": "d40791fa",
   "metadata": {
    "scrolled": false
   },
   "outputs": [],
   "source": [
    "\n",
    "from diffusers.pipelines import StableDiffusionXLPipeline\n",
    "from diffusers.models import ImageProjection\n",
    "from diffusers import LCMScheduler\n",
    "import torch\n",
    "import os\n",
    "from diffusers.utils import load_image\n",
    "\n",
    "\n",
    "model_id = \"stabilityai/stable-diffusion-xl-base-1.0\"\n",
    "\n",
    "pipe = StableDiffusionXLPipeline.from_pretrained(model_id)\n",
    "pipe.to(device=\"cuda\", dtype=torch.bfloat16)\n",
    "\n",
    "pipe.load_ip_adapter(\"h94/IP-Adapter\", subfolder=\"sdxl_models\", weight_name=\"ip-adapter_sdxl.bin\")\n",
    "\n",
    "# adapter_id = \"latent-consistency/lcm-lora-sdxl\"\n",
    "# pipe.scheduler = LCMScheduler.from_config(pipe.scheduler.config)\n",
    "\n",
    "# # load and fuse lcm lora\n",
    "# pipe.load_lora_weights(adapter_id)\n",
    "# pipe.fuse_lora()\n"
   ]
  },
  {
   "cell_type": "code",
   "execution_count": null,
   "id": "14c4b7ed",
   "metadata": {
    "scrolled": true
   },
   "outputs": [],
   "source": [
    "\n",
    "pipe.set_ip_adapter_scale(.7)\n",
    "\n"
   ]
  },
  {
   "cell_type": "code",
   "execution_count": null,
   "id": "8a8f5c81",
   "metadata": {
    "scrolled": true
   },
   "outputs": [],
   "source": []
  },
  {
   "cell_type": "code",
   "execution_count": null,
   "id": "2e32b91c",
   "metadata": {},
   "outputs": [],
   "source": []
  },
  {
   "cell_type": "code",
   "execution_count": null,
   "id": "ecd9fe58",
   "metadata": {},
   "outputs": [],
   "source": []
  },
  {
   "cell_type": "code",
   "execution_count": null,
   "id": "73e9cc18",
   "metadata": {},
   "outputs": [],
   "source": []
  },
  {
   "cell_type": "code",
   "execution_count": null,
   "id": "ce0fbc16",
   "metadata": {},
   "outputs": [],
   "source": [
    "user_embs = torch.load('/home/ryn_mote/Misc/generative_recommender/pass_to/learned_user_features.pt')\n",
    "user_embs#[user_embs!= 0].shape[0]//1280"
   ]
  },
  {
   "cell_type": "code",
   "execution_count": null,
   "id": "78b9f67a",
   "metadata": {},
   "outputs": [],
   "source": []
  },
  {
   "cell_type": "code",
   "execution_count": null,
   "id": "46d94a5b",
   "metadata": {},
   "outputs": [],
   "source": []
  },
  {
   "cell_type": "code",
   "execution_count": null,
   "id": "12d9c45a",
   "metadata": {},
   "outputs": [],
   "source": []
  },
  {
   "cell_type": "code",
   "execution_count": null,
   "id": "bca5c224",
   "metadata": {},
   "outputs": [],
   "source": []
  },
  {
   "cell_type": "code",
   "execution_count": null,
   "id": "096cb0c3",
   "metadata": {},
   "outputs": [],
   "source": []
  },
  {
   "cell_type": "code",
   "execution_count": null,
   "id": "3c1d1504",
   "metadata": {},
   "outputs": [],
   "source": []
  },
  {
   "cell_type": "code",
   "execution_count": null,
   "id": "d132f642",
   "metadata": {},
   "outputs": [],
   "source": []
  },
  {
   "cell_type": "code",
   "execution_count": null,
   "id": "154424bc",
   "metadata": {},
   "outputs": [],
   "source": []
  },
  {
   "cell_type": "code",
   "execution_count": null,
   "id": "370ee9b7",
   "metadata": {
    "scrolled": false
   },
   "outputs": [],
   "source": [
    "\n",
    "import numpy as np\n",
    "from IPython import display\n",
    "from PIL import Image\n",
    "\n",
    "seed = np.random.randint(0, 9999999999)\n",
    "print(seed)\n",
    "\n",
    "for user in [36]:#range(0, 26):\n",
    "    print(user)\n",
    "    with torch.no_grad():\n",
    "#         user_emb = best_im\n",
    "#         user_emb = user_emb / (user_emb.norm())\n",
    "        user_emb = torch.load('/home/ryn_mote/Misc/generative_recommender/pass_to/learned_user_features.pt')[user, None]\n",
    "        user_emb = user_emb / (user_emb.norm())\n",
    "#         user_emb = torch.zeros_like(user_emb)\n",
    "        \n",
    "        \n",
    "        \n",
    "        torch.manual_seed(seed)\n",
    "        print(user_emb)\n",
    "        user_emb = torch.cat([torch.zeros_like(user_emb), user_emb])\n",
    "        image = pipe(\n",
    "            prompt='a dog',#torch.zeros(1, 77, 2048, device='cuda'),\n",
    "            pooled_prompt='',\n",
    "            ip_adapter_image_embeds=user_emb.to('cuda', dtype=torch.bfloat16),\n",
    "            height=1024,\n",
    "            width=1024,\n",
    "            num_inference_steps=40,\n",
    "            guidance_scale=8,\n",
    "        ).images\n",
    "        [display.display(i) for i in image]\n",
    "\n"
   ]
  },
  {
   "cell_type": "code",
   "execution_count": null,
   "id": "2d64e5df",
   "metadata": {},
   "outputs": [],
   "source": []
  },
  {
   "cell_type": "code",
   "execution_count": null,
   "id": "eeb59bf1",
   "metadata": {},
   "outputs": [],
   "source": []
  }
 ],
 "metadata": {
  "kernelspec": {
   "display_name": "Python new_base",
   "language": "python",
   "name": "new_base"
  },
  "language_info": {
   "codemirror_mode": {
    "name": "ipython",
    "version": 3
   },
   "file_extension": ".py",
   "mimetype": "text/x-python",
   "name": "python",
   "nbconvert_exporter": "python",
   "pygments_lexer": "ipython3",
   "version": "3.10.9"
  }
 },
 "nbformat": 4,
 "nbformat_minor": 5
}
